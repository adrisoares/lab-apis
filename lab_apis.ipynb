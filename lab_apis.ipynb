{
  "cells": [
    {
      "cell_type": "markdown",
      "id": "27422808-8a16-4be1-897f-57b379af8991",
      "metadata": {
        "id": "27422808-8a16-4be1-897f-57b379af8991"
      },
      "source": [
        "# Lab | APIs"
      ]
    },
    {
      "cell_type": "markdown",
      "id": "50f30950-3e31-499a-92ea-1535422c570b",
      "metadata": {
        "id": "50f30950-3e31-499a-92ea-1535422c570b"
      },
      "source": [
        "In order to use the `Spotify` API (`SpotiPy`), create an account in `Spotify` and follow [these](https://developer.spotify.com/documentation/general/guides/app-settings/) steps."
      ]
    },
    {
      "cell_type": "markdown",
      "id": "a0479b95-6ca5-415e-b894-1f5cb17b055b",
      "metadata": {
        "id": "a0479b95-6ca5-415e-b894-1f5cb17b055b"
      },
      "source": [
        "## Authentication and initializing the API"
      ]
    },
    {
      "cell_type": "markdown",
      "id": "47d71611-c617-4972-a0c3-7090c24b399c",
      "metadata": {
        "id": "47d71611-c617-4972-a0c3-7090c24b399c"
      },
      "source": [
        "Save your client ID and your client secret in your preferred way, and read it or load it into the following variables:"
      ]
    },
    {
      "cell_type": "code",
      "execution_count": null,
      "id": "319cfd4e-f6fb-4419-80e0-e3983cd25e43",
      "metadata": {
        "id": "319cfd4e-f6fb-4419-80e0-e3983cd25e43"
      },
      "outputs": [],
      "source": [
        "CLIENT_ID = \"4109b2d9f5014671863bb2df1d1fbdd3\"\n",
        "CLIENT_SECRET = \"5cb719fae80c4191a9c0b288f51bfe50\""
      ]
    },
    {
      "cell_type": "code",
      "execution_count": 1,
      "id": "ea44c82a-5c07-4dbc-beb2-bba2601bb75e",
      "metadata": {
        "id": "ea44c82a-5c07-4dbc-beb2-bba2601bb75e"
      },
      "outputs": [],
      "source": [
        "# My own\n",
        "CLIENT_ID = \"7afd87528b6044fbba3fb18fb30820d9\"\n",
        "CLIENT_SECRET = \"38c6aca37b27440a98361a123a1eec7f\""
      ]
    },
    {
      "cell_type": "code",
      "execution_count": 2,
      "id": "04e12954-fd70-4311-88a5-fb7e2c29799c",
      "metadata": {
        "id": "04e12954-fd70-4311-88a5-fb7e2c29799c",
        "colab": {
          "base_uri": "https://localhost:8080/"
        },
        "outputId": "e8789c7f-0a6c-4678-f5f2-7a760e292d71"
      },
      "outputs": [
        {
          "output_type": "stream",
          "name": "stdout",
          "text": [
            "Collecting spotipy\n",
            "  Downloading spotipy-2.23.0-py3-none-any.whl (29 kB)\n",
            "Collecting redis>=3.5.3 (from spotipy)\n",
            "  Downloading redis-5.0.1-py3-none-any.whl (250 kB)\n",
            "\u001b[2K     \u001b[90m━━━━━━━━━━━━━━━━━━━━━━━━━━━━━━━━━━━━━━━━\u001b[0m \u001b[32m250.3/250.3 kB\u001b[0m \u001b[31m3.9 MB/s\u001b[0m eta \u001b[36m0:00:00\u001b[0m\n",
            "\u001b[?25hRequirement already satisfied: requests>=2.25.0 in /usr/local/lib/python3.10/dist-packages (from spotipy) (2.31.0)\n",
            "Requirement already satisfied: six>=1.15.0 in /usr/local/lib/python3.10/dist-packages (from spotipy) (1.16.0)\n",
            "Requirement already satisfied: urllib3>=1.26.0 in /usr/local/lib/python3.10/dist-packages (from spotipy) (2.0.7)\n",
            "Requirement already satisfied: async-timeout>=4.0.2 in /usr/local/lib/python3.10/dist-packages (from redis>=3.5.3->spotipy) (4.0.3)\n",
            "Requirement already satisfied: charset-normalizer<4,>=2 in /usr/local/lib/python3.10/dist-packages (from requests>=2.25.0->spotipy) (3.3.1)\n",
            "Requirement already satisfied: idna<4,>=2.5 in /usr/local/lib/python3.10/dist-packages (from requests>=2.25.0->spotipy) (3.4)\n",
            "Requirement already satisfied: certifi>=2017.4.17 in /usr/local/lib/python3.10/dist-packages (from requests>=2.25.0->spotipy) (2023.7.22)\n",
            "Installing collected packages: redis, spotipy\n",
            "Successfully installed redis-5.0.1 spotipy-2.23.0\n"
          ]
        }
      ],
      "source": [
        "# If you havent done so, install the spotipy wrapper\n",
        "!pip install spotipy"
      ]
    },
    {
      "cell_type": "markdown",
      "id": "dc0e86da-8846-4207-84c3-cd20b9e01d0e",
      "metadata": {
        "id": "dc0e86da-8846-4207-84c3-cd20b9e01d0e"
      },
      "source": [
        "Once you have done it, we will start initializing the API."
      ]
    },
    {
      "cell_type": "code",
      "execution_count": null,
      "id": "03034bc6-9858-412a-83b7-18abdc345d7e",
      "metadata": {
        "id": "03034bc6-9858-412a-83b7-18abdc345d7e"
      },
      "outputs": [],
      "source": [
        "import spotipy\n",
        "import requests\n",
        "import pandas as pd\n",
        "from spotipy.oauth2 import SpotifyClientCredentials\n",
        "\n",
        "#Initialize SpotiPy with user credentials\n",
        "sp = spotipy.Spotify(auth_manager=SpotifyClientCredentials(client_id = \"7afd87528b6044fbba3fb18fb30820d9\",\n",
        "                                                           client_secret = \"38c6aca37b27440a98361a123a1eec7f\"))\n"
      ]
    },
    {
      "cell_type": "markdown",
      "id": "8fed9628-08d7-4290-a4be-5527696b01c5",
      "metadata": {
        "id": "8fed9628-08d7-4290-a4be-5527696b01c5"
      },
      "source": [
        "## Using the search method"
      ]
    },
    {
      "cell_type": "markdown",
      "id": "6575a3c6-f25a-4905-b1f3-c0efd50dcc1e",
      "metadata": {
        "id": "6575a3c6-f25a-4905-b1f3-c0efd50dcc1e"
      },
      "source": [
        "Now, let's use the search method by introducing a \"query\". For example, let's try searching for \"Lady Gaga\":"
      ]
    },
    {
      "cell_type": "code",
      "execution_count": null,
      "id": "7772a1e0-9692-4d04-a590-76111a272d8d",
      "metadata": {
        "tags": [],
        "id": "7772a1e0-9692-4d04-a590-76111a272d8d"
      },
      "outputs": [],
      "source": [
        "results = sp.search(q='Lady Gaga', limit=50)\n",
        "results"
      ]
    },
    {
      "cell_type": "code",
      "execution_count": null,
      "id": "edc14c95-474b-4e2a-aea3-bdfd0a205546",
      "metadata": {
        "id": "edc14c95-474b-4e2a-aea3-bdfd0a205546"
      },
      "outputs": [],
      "source": [
        "results.keys() # We can see that we only have tracks"
      ]
    },
    {
      "cell_type": "code",
      "execution_count": null,
      "id": "ad8ef934-1dbb-4008-ac8e-f5c29823fe6a",
      "metadata": {
        "id": "ad8ef934-1dbb-4008-ac8e-f5c29823fe6a",
        "colab": {
          "base_uri": "https://localhost:8080/"
        },
        "outputId": "1dfdca60-2ec2-4e87-a490-6797f53b080e"
      },
      "outputs": [
        {
          "output_type": "execute_result",
          "data": {
            "text/plain": [
              "dict_keys(['href', 'items', 'limit', 'next', 'offset', 'previous', 'total'])"
            ]
          },
          "metadata": {},
          "execution_count": 9
        }
      ],
      "source": [
        "results[\"tracks\"].keys() # Let's check the values"
      ]
    },
    {
      "cell_type": "code",
      "execution_count": null,
      "id": "004b7814-4dd5-408e-b7ba-1da87f9250cb",
      "metadata": {
        "id": "004b7814-4dd5-408e-b7ba-1da87f9250cb",
        "colab": {
          "base_uri": "https://localhost:8080/",
          "height": 36
        },
        "outputId": "a0d821ac-edf7-4116-886e-39383a4d100c"
      },
      "outputs": [
        {
          "output_type": "execute_result",
          "data": {
            "text/plain": [
              "'https://api.spotify.com/v1/search?query=Lady+Gaga&type=track&offset=0&limit=50'"
            ],
            "application/vnd.google.colaboratory.intrinsic+json": {
              "type": "string"
            }
          },
          "metadata": {},
          "execution_count": 10
        }
      ],
      "source": [
        "results[\"tracks\"][\"href\"] # Query we have searched"
      ]
    },
    {
      "cell_type": "code",
      "execution_count": null,
      "id": "7285cedd-fbe1-47cf-98d5-a7fdc3e5c8b8",
      "metadata": {
        "scrolled": true,
        "tags": [],
        "id": "7285cedd-fbe1-47cf-98d5-a7fdc3e5c8b8"
      },
      "outputs": [],
      "source": [
        "results[\"tracks\"][\"items\"] #items (actual tracks)"
      ]
    },
    {
      "cell_type": "code",
      "execution_count": null,
      "id": "529fff56-47d3-4d78-8ff5-9530fe290d1d",
      "metadata": {
        "id": "529fff56-47d3-4d78-8ff5-9530fe290d1d",
        "colab": {
          "base_uri": "https://localhost:8080/"
        },
        "outputId": "d925473a-832a-412f-f8bd-6f9b92ceac39"
      },
      "outputs": [
        {
          "output_type": "execute_result",
          "data": {
            "text/plain": [
              "50"
            ]
          },
          "metadata": {},
          "execution_count": 12
        }
      ],
      "source": [
        "results[\"tracks\"][\"limit\"]#Limit we have chosen"
      ]
    },
    {
      "cell_type": "code",
      "execution_count": null,
      "id": "92c64c57-3bd2-4d42-bbd1-84a040f1e02a",
      "metadata": {
        "id": "92c64c57-3bd2-4d42-bbd1-84a040f1e02a",
        "colab": {
          "base_uri": "https://localhost:8080/",
          "height": 36
        },
        "outputId": "af86fa99-4c12-4ad1-8950-23e6fe9c9654"
      },
      "outputs": [
        {
          "output_type": "execute_result",
          "data": {
            "text/plain": [
              "'https://api.spotify.com/v1/search?query=Lady+Gaga&type=track&offset=50&limit=50'"
            ],
            "application/vnd.google.colaboratory.intrinsic+json": {
              "type": "string"
            }
          },
          "metadata": {},
          "execution_count": 13
        }
      ],
      "source": [
        "results[\"tracks\"][\"next\"] #link to the next page (next 50 tracks)"
      ]
    },
    {
      "cell_type": "code",
      "execution_count": null,
      "id": "f5ccdf79-5d9e-40de-adb9-2cc1e5b7c74a",
      "metadata": {
        "tags": [],
        "id": "f5ccdf79-5d9e-40de-adb9-2cc1e5b7c74a",
        "colab": {
          "base_uri": "https://localhost:8080/"
        },
        "outputId": "985d1db2-73cd-41b0-fc24-0cd883c58cf7"
      },
      "outputs": [
        {
          "output_type": "execute_result",
          "data": {
            "text/plain": [
              "0"
            ]
          },
          "metadata": {},
          "execution_count": 14
        }
      ],
      "source": [
        "results[\"tracks\"][\"offset\"] # Actual offset (starting point)"
      ]
    },
    {
      "cell_type": "code",
      "execution_count": null,
      "id": "356730c1-60a2-4ea8-bd2c-e0522bab8a4d",
      "metadata": {
        "id": "356730c1-60a2-4ea8-bd2c-e0522bab8a4d"
      },
      "outputs": [],
      "source": [
        "results[\"tracks\"][\"previous\"] #Previous search"
      ]
    },
    {
      "cell_type": "code",
      "execution_count": null,
      "id": "7c44c8fd-63ea-45ba-94bd-5c5e8e1458b3",
      "metadata": {
        "id": "7c44c8fd-63ea-45ba-94bd-5c5e8e1458b3",
        "colab": {
          "base_uri": "https://localhost:8080/"
        },
        "outputId": "33b84c68-017b-41c6-c8b4-b67f7238027c"
      },
      "outputs": [
        {
          "output_type": "execute_result",
          "data": {
            "text/plain": [
              "1000"
            ]
          },
          "metadata": {},
          "execution_count": 60
        }
      ],
      "source": [
        "results[\"tracks\"][\"total\"] # Number of matches"
      ]
    },
    {
      "cell_type": "markdown",
      "id": "7a127c64-3274-4ecc-aa0f-83ae34af4655",
      "metadata": {
        "id": "7a127c64-3274-4ecc-aa0f-83ae34af4655"
      },
      "source": [
        "## Exploring the tracks"
      ]
    },
    {
      "cell_type": "code",
      "execution_count": null,
      "id": "6c3541a2-0fd2-41e0-9b27-60a7dc36c4cb",
      "metadata": {
        "scrolled": true,
        "tags": [],
        "id": "6c3541a2-0fd2-41e0-9b27-60a7dc36c4cb"
      },
      "outputs": [],
      "source": [
        "results[\"tracks\"][\"items\"][0] # Explore the first song"
      ]
    },
    {
      "cell_type": "code",
      "execution_count": null,
      "id": "f2c35eb2-3ea6-4329-9f29-7c062f466638",
      "metadata": {
        "id": "f2c35eb2-3ea6-4329-9f29-7c062f466638"
      },
      "outputs": [],
      "source": [
        "results[\"tracks\"][\"items\"][0].keys() # We will focus on album, artists, id, name, popularity, type and uri"
      ]
    },
    {
      "cell_type": "code",
      "execution_count": null,
      "id": "889ca3c3-b0c8-4037-96fb-6add847f537f",
      "metadata": {
        "id": "889ca3c3-b0c8-4037-96fb-6add847f537f"
      },
      "outputs": [],
      "source": [
        "# Track artists\n",
        "results[\"tracks\"][\"items\"][0][\"artists\"]"
      ]
    },
    {
      "cell_type": "code",
      "execution_count": null,
      "id": "a9c6a0b2-cea7-48ff-8c51-179d15388aa2",
      "metadata": {
        "id": "a9c6a0b2-cea7-48ff-8c51-179d15388aa2"
      },
      "outputs": [],
      "source": [
        "# Track artists names\n",
        "for artist in results[\"tracks\"][\"items\"][0][\"artists\"]:\n",
        "    print(artist[\"name\"])"
      ]
    },
    {
      "cell_type": "code",
      "execution_count": null,
      "id": "6a826e9c-d2e7-4537-a82c-3dc3a2b80b9f",
      "metadata": {
        "id": "6a826e9c-d2e7-4537-a82c-3dc3a2b80b9f",
        "colab": {
          "base_uri": "https://localhost:8080/",
          "height": 36
        },
        "outputId": "ff259441-f528-494d-a6d9-df91935c3c34"
      },
      "outputs": [
        {
          "output_type": "execute_result",
          "data": {
            "text/plain": [
              "'7mXuWTczZNxG5EDcjFEuJR'"
            ],
            "application/vnd.google.colaboratory.intrinsic+json": {
              "type": "string"
            }
          },
          "metadata": {},
          "execution_count": 14
        }
      ],
      "source": [
        "# Track ID\n",
        "results[\"tracks\"][\"items\"][0][\"id\"]"
      ]
    },
    {
      "cell_type": "code",
      "execution_count": null,
      "id": "a5bd871b-6087-4680-819c-1a1d8ba879bc",
      "metadata": {
        "id": "a5bd871b-6087-4680-819c-1a1d8ba879bc",
        "colab": {
          "base_uri": "https://localhost:8080/",
          "height": 36
        },
        "outputId": "09cd2e91-0f6f-4ed2-f375-8ec3ec4d15af"
      },
      "outputs": [
        {
          "output_type": "execute_result",
          "data": {
            "text/plain": [
              "'LADY GAGA'"
            ],
            "application/vnd.google.colaboratory.intrinsic+json": {
              "type": "string"
            }
          },
          "metadata": {},
          "execution_count": 21
        }
      ],
      "source": [
        "# Track name\n",
        "results[\"tracks\"][\"items\"][0][\"name\"]"
      ]
    },
    {
      "cell_type": "code",
      "execution_count": null,
      "id": "812661f1-29db-452f-a719-cdfbe95ba9f6",
      "metadata": {
        "id": "812661f1-29db-452f-a719-cdfbe95ba9f6",
        "colab": {
          "base_uri": "https://localhost:8080/"
        },
        "outputId": "fc4eb7a8-0f75-4b0e-d13a-e7fc16ddff8b"
      },
      "outputs": [
        {
          "output_type": "execute_result",
          "data": {
            "text/plain": [
              "95"
            ]
          },
          "metadata": {},
          "execution_count": 22
        }
      ],
      "source": [
        "# Popularity index\n",
        "results[\"tracks\"][\"items\"][0][\"popularity\"]"
      ]
    },
    {
      "cell_type": "markdown",
      "id": "0e81c762-e6c5-424e-a4eb-12ab45dffb9f",
      "metadata": {
        "id": "0e81c762-e6c5-424e-a4eb-12ab45dffb9f"
      },
      "source": [
        "Spotify songs are identified by either a \"url\", a \"uri\", or an \"id\".\n",
        "\n",
        "- The `id` is an alphanumeric code, and it's the nuclear part of the identifier.\n",
        "\n",
        "- The `uri` contains \"spotify:track\" before the id. An uri is useful because it can be searched manually in the Spotify app.\n",
        "\n",
        "- The `url` is a link to the song on the Spotify web player.\n"
      ]
    },
    {
      "cell_type": "code",
      "execution_count": null,
      "id": "8bcdccfc-dde9-4f4b-8af5-3caa335b89b5",
      "metadata": {
        "id": "8bcdccfc-dde9-4f4b-8af5-3caa335b89b5",
        "colab": {
          "base_uri": "https://localhost:8080/",
          "height": 36
        },
        "outputId": "25e68059-8aa4-4e87-a788-0ac8a59ccecf"
      },
      "outputs": [
        {
          "output_type": "execute_result",
          "data": {
            "text/plain": [
              "'spotify:track:7mXuWTczZNxG5EDcjFEuJR'"
            ],
            "application/vnd.google.colaboratory.intrinsic+json": {
              "type": "string"
            }
          },
          "metadata": {},
          "execution_count": 50
        }
      ],
      "source": [
        "results[\"tracks\"][\"items\"][0][\"uri\"]"
      ]
    },
    {
      "cell_type": "markdown",
      "id": "71c3c9c1-4ec2-42bf-a243-b21105ae1699",
      "metadata": {
        "id": "71c3c9c1-4ec2-42bf-a243-b21105ae1699"
      },
      "source": [
        "## Exercise 1: Discovering New Music through Your Favorite Artists\n",
        "\n",
        "**Objective:**\n",
        "Uncover new music by exploring the top tracks of your favorite artists and their related artists.\n",
        "\n",
        "**Instructions:**\n",
        "\n",
        "1. **List Your Favorite Artists**:\n",
        "    - Make a list of your three favorite artists and store it in a variable named `artists`.\n",
        "    - Example: `artists = [\"Los Fabulosos Cadillacs\", \"Manu Chao\", \"Muchachito Bombo Infierno\"]`.\n",
        "\n",
        "2. **Fetch Top Tracks**:\n",
        "    - Write a function named `get_top_tracks`.\n",
        "    - This function should accept an artist's name and return the name of the first 5 top tracks by that artist.\n",
        "    - Use the function `get_top_tracks` to get the first 5 top tracks for each artist in your `artists` list and store the results in a new list named `top_tracks_list`.\n",
        "\n",
        "3. **Discover Related Artists**:\n",
        "    - Write a function named `find_related_artists`.\n",
        "    - This function should accept an artist's name and return the names of the first 5 artists related to the provided artist.\n",
        "    - Store the results in a list named `related_artists_list`.\n",
        "\n",
        "**Challenge:**\n",
        "Combine the above steps to create a playlist that includes the top tracks of your favorite artists and the top tracks of the artists related to them."
      ]
    },
    {
      "cell_type": "markdown",
      "id": "0c442378-e26f-47c8-b4f1-b4fa07089935",
      "metadata": {
        "id": "0c442378-e26f-47c8-b4f1-b4fa07089935"
      },
      "source": [
        "**Hint Section for 3. **Discover Related Artists**:**\n",
        "\n",
        "1. **Getting Artist ID**:\n",
        "    - Remember that every artist on Spotify has a unique identifier: their `id`. To get the related artists, you first need to fetch the ID of the given artist.\n",
        "    - Consider using the `sp.search` method to query the artist's name. The method requires a `q` parameter, which is your query (in this case, the artist's name). It also has a `limit` parameter, which specifies the number of tracks it returns. In this case, 1 track is enough, since we just want the artist ID.\n",
        "    - Each track in the results has an associated 'artists' field. This field is a list containing details about all artists involved in that track.\n",
        "   - For most tracks, especially those by a single artist, this list will contain one artist. From this artist's details, you can extract the 'id' field, which is the unique identifier for that artist on Spotify.\n",
        "\n",
        "\n",
        "3. **Fetching Related Artists**:\n",
        "    - Once you have the artist's ID, you can use another SpotiPy method to fetch related artists. Think about which SpotiPy method allows you to get related artists using an artist's ID. Here is the documentation link: https://spotipy.readthedocs.io/en/2.22.1/.\n",
        "    - This method will return a list of related artists. You'll need to extract the relevant details (artist names) from this list.\n",
        "\n",
        "4. **Iterating for Multiple Artists**:\n",
        "    - Once you have a function that returns related artists names for one artist, you can use a list comprehension to apply this function to a list of artist names.\n",
        "\n",
        "5. **Testing**:\n",
        "    - Always test your function with one artist name first. Once you're confident it works, then apply it to the entire list.\n",
        "\n",
        "Remember, the key is to break the problem down into manageable steps. Use the SpotiPy documentation as a resource to understand available methods and their return structures."
      ]
    },
    {
      "cell_type": "code",
      "source": [
        "!pip install spotipy"
      ],
      "metadata": {
        "id": "bJnBOloHYX6t"
      },
      "id": "bJnBOloHYX6t",
      "execution_count": null,
      "outputs": []
    },
    {
      "cell_type": "code",
      "source": [
        "import spotipy\n",
        "import requests\n",
        "import pandas as pd\n",
        "from spotipy.oauth2 import SpotifyClientCredentials\n",
        "\n",
        "CLIENT_ID = \"7afd87528b6044fbba3fb18fb30820d9\"\n",
        "CLIENT_SECRET = \"38c6aca37b27440a98361a123a1eec7f\"\n",
        "\n",
        "# 1. List Your Favorite Artists:\n",
        "artists = [\"Feist\", \"The National\", \"Of Monsters and Men\"]\n",
        "\n",
        "# 2. Fetch Top Tracks:\n",
        "\"\"\" This function will return the artist running credentials\"\"\"\n",
        "def get_from_spotify(artist_name):\n",
        "  sp = spotipy.Spotify(auth_manager = SpotifyClientCredentials(client_id = \"7afd87528b6044fbba3fb18fb30820d9\", client_secret = \"38c6aca37b27440a98361a123a1eec7f\"))\n",
        "  return sp.search(q = artist_name, limit = 5)\n",
        "\n",
        "#print(get_from_spotify(\"Feist\"))\n",
        "\n",
        "def get_top_tracks(artist_from_spotify):\n",
        "  \"\"\" This function will return the top 5 musics of the artist\"\"\"\n",
        "  top_track_list = []\n",
        "  for traque in range(0, 5):\n",
        "    top_track_list.append(artist_from_spotify[\"tracks\"][\"items\"][traque][\"name\"]) #ah ah ah\n",
        "  return top_track_list\n",
        "\n",
        "top_tracks_list = []\n",
        "\"\"\" I will iterate on the artists to get top 5 from all of them \"\"\"\n",
        "for artist in artists:\n",
        "  top_tracks_list.append(get_top_tracks(get_from_spotify(artist)))\n",
        "top_tracks_list\n",
        "\n",
        "get_top_tracks(get_from_spotify(\"The National\")), get_top_tracks(get_from_spotify(\"Feist\")), get_top_tracks(get_from_spotify(\"Of Monsters and Men\"))"
      ],
      "metadata": {
        "id": "Idqa3-CWXF_l"
      },
      "id": "Idqa3-CWXF_l",
      "execution_count": null,
      "outputs": []
    },
    {
      "cell_type": "code",
      "source": [
        "# 3. Discover Related Artists:\n",
        "\n",
        "# Fetch Artist ID:\n",
        "\"\"\" This function will return the artist running credentials\"\"\"\n",
        "def get_from_spotify(artist_name):\n",
        "  sp = spotipy.Spotify(auth_manager = SpotifyClientCredentials(client_id = \"7afd87528b6044fbba3fb18fb30820d9\", client_secret = \"38c6aca37b27440a98361a123a1eec7f\"))\n",
        "  return sp.search(q = artist_name, limit = 10)\n",
        "\n",
        "# Getting Artist ID:\n",
        "\"\"\" Not that clean of a function, but went for the logic of the top 5 tracks\"\"\"\n",
        "def get_id_from_spotify(artist_from_spotify):\n",
        "  return artist_from_spotify[\"tracks\"][\"items\"][0][\"artists\"][0][\"id\"]\n",
        "\n",
        "get_id_from_spotify(get_from_spotify(\"Feist\")), get_id_from_spotify(get_from_spotify(\"The National\")), get_id_from_spotify(get_from_spotify(\"Of Monsters and Men\"))\n",
        "\n",
        "def fetch_related_artists(artist_id):\n",
        "  sp = spotipy.Spotify(auth_manager = SpotifyClientCredentials(client_id = \"7afd87528b6044fbba3fb18fb30820d9\", client_secret = \"38c6aca37b27440a98361a123a1eec7f\"))\n",
        "  return sp.artist_related_artists(artist_id)\n",
        "#print(fetch_related_artists(\"6CWTBjOJK75cTE8Xv8u1kj\"))\n",
        "\n",
        "def find_related_artists(artist_stuff):\n",
        "  \"\"\" This function will return top 5 related artists\"\"\"\n",
        "  related_artists_list = []\n",
        "  for id in range(0, 5):\n",
        "    related_artists_list.append(artist_stuff[\"artists\"][id][\"name\"])\n",
        "  return related_artists_list\n",
        "\n",
        "related_artists_list = {}\n",
        "for artist in artists:\n",
        "  a = get_from_spotify(artist)\n",
        "  b = get_id_from_spotify(a)\n",
        "  c = fetch_related_artists(b)\n",
        "  d = find_related_artists(c)\n",
        "  related_artists_list[artist] = d\n",
        "\n",
        "related_artists_list\n"
      ],
      "metadata": {
        "id": "ShiLqWB_Z9an"
      },
      "id": "ShiLqWB_Z9an",
      "execution_count": null,
      "outputs": []
    },
    {
      "cell_type": "markdown",
      "id": "94ad5fdc-22e5-4521-8aa1-c6833eb7e949",
      "metadata": {
        "id": "94ad5fdc-22e5-4521-8aa1-c6833eb7e949"
      },
      "source": [
        "## Playlists\n",
        "\n",
        "The `sp.featured_playlists()` method in `spotipy` fetches a list of Spotify's featured playlists at a given moment. These are curated playlists that Spotify often highlights on the platform's homepage. The method provides a snapshot of the playlists that are being promoted or featured by Spotify at the time of the request.\n",
        "\n",
        "Once you've fetched the featured playlists, you can extract their IDs (and other details)."
      ]
    },
    {
      "cell_type": "code",
      "execution_count": null,
      "id": "25fb0cf8-c13a-41b0-b8f8-7e0700fd1e41",
      "metadata": {
        "id": "25fb0cf8-c13a-41b0-b8f8-7e0700fd1e41"
      },
      "outputs": [],
      "source": [
        "sp.featured_playlists() # We get a playlist id of a playlist we like"
      ]
    },
    {
      "cell_type": "markdown",
      "id": "90f558f3-c638-4df4-b5a4-e24f7847d52a",
      "metadata": {
        "id": "90f558f3-c638-4df4-b5a4-e24f7847d52a"
      },
      "source": [
        "### Getting a Playlist's Details\n",
        "To fetch details about a specific playlist, you can use the playlist method. You'll need the playlist's Spotify ID."
      ]
    },
    {
      "cell_type": "markdown",
      "id": "0eef529f-617f-4ea3-8156-07472ac8e6d5",
      "metadata": {
        "id": "0eef529f-617f-4ea3-8156-07472ac8e6d5"
      },
      "source": [
        "In this example, we will use the following playlist id: *37i9dQZF1DXd9zR7tdziuQ*"
      ]
    },
    {
      "cell_type": "code",
      "execution_count": null,
      "id": "46d35121-9256-4cf4-81f5-118b87f7af32",
      "metadata": {
        "id": "46d35121-9256-4cf4-81f5-118b87f7af32"
      },
      "outputs": [],
      "source": [
        "playlist_id = \"37i9dQZF1DXd9zR7tdziuQ\"\n",
        "playlist = sp.playlist(playlist_id)"
      ]
    },
    {
      "cell_type": "code",
      "execution_count": null,
      "id": "5260f67f-6024-4fee-8449-30904f03bf76",
      "metadata": {
        "id": "5260f67f-6024-4fee-8449-30904f03bf76",
        "colab": {
          "base_uri": "https://localhost:8080/"
        },
        "outputId": "eaac7aab-4c5b-4ae0-98b7-38317e45a921"
      },
      "outputs": [
        {
          "output_type": "stream",
          "name": "stdout",
          "text": [
            "Hits acústicos\n",
            "Relájate con tus canciones favoritas en versión acústica / Descontrai com versões acústicas das tuas músicas preferidas.\n"
          ]
        }
      ],
      "source": [
        "print(playlist['name'])  # Print the playlist's name\n",
        "print(playlist['description'])  # Print the playlist's description"
      ]
    },
    {
      "cell_type": "markdown",
      "id": "13bc8631-69f0-4b98-9cc9-5baecbaea9ba",
      "metadata": {
        "id": "13bc8631-69f0-4b98-9cc9-5baecbaea9ba"
      },
      "source": [
        "### Getting Tracks from a Playlist\n",
        "If you want to get the tracks from a specific playlist, you can use the playlist_tracks method."
      ]
    },
    {
      "cell_type": "code",
      "execution_count": null,
      "id": "69c78f8d-7e6a-4d15-bcbb-fc93edb82433",
      "metadata": {
        "id": "69c78f8d-7e6a-4d15-bcbb-fc93edb82433"
      },
      "outputs": [],
      "source": [
        "tracks = sp.playlist_tracks(playlist_id)\n",
        "for track in tracks['items']:\n",
        "    print(track['track']['name'])  # Print each track's name"
      ]
    },
    {
      "cell_type": "markdown",
      "id": "2775714d-acc7-4555-96bd-2c541ab0855e",
      "metadata": {
        "id": "2775714d-acc7-4555-96bd-2c541ab0855e"
      },
      "source": [
        "### Getting Artists from a Playlist\n",
        "\n",
        "To extract all the artists from the tracks in a playlist, you'd typically follow these steps:\n",
        "\n",
        "1. Fetch the playlist's tracks.\n",
        "2. Iterate through each track.\n",
        "3. For each track, extract the associated artists."
      ]
    },
    {
      "cell_type": "code",
      "execution_count": null,
      "id": "65c5e5c4-f186-42c6-b136-4ef02b0b01ff",
      "metadata": {
        "id": "65c5e5c4-f186-42c6-b136-4ef02b0b01ff"
      },
      "outputs": [],
      "source": [
        "# List to store unique artist names\n",
        "artists_list = []\n",
        "\n",
        "for track_item in tracks['items']:\n",
        "    track = track_item['track']\n",
        "    for artist in track['artists']:\n",
        "        artist_name = artist['name']\n",
        "        if artist_name not in artists_list:  # This ensures each artist is added only once\n",
        "            artists_list.append(artist_name)\n",
        "artists_list"
      ]
    },
    {
      "cell_type": "markdown",
      "id": "7b52207e-a4f0-4f90-9f4e-3170d7f0f3fe",
      "metadata": {
        "id": "7b52207e-a4f0-4f90-9f4e-3170d7f0f3fe"
      },
      "source": [
        "## Exercise 2: Unraveling the World of Playlists\n",
        "\n",
        "\n",
        "1. **Featured Exploration**:\n",
        "   - Fetch the list of Spotify's current featured playlists.\n",
        "   - Extract and display the names and IDs of the top 5 featured playlists.\n",
        "   \n",
        "2. **Deep Dive**:\n",
        "   - Choose any one of the top 5 featured playlists (you can choose the one you personally find most interesting or simply pick one randomly).\n",
        "   - Fetch and display its name, description, and total track count.\n",
        "\n",
        "3. **Track-tastic**:\n",
        "   - Extract and display the names of the first 10 tracks in the chosen playlist.\n",
        "\n",
        "4. **Artistic Flair**:\n",
        "   - Create a dictionary where the keys are the names of the first 10 tracks, and the values are lists containing the names of the artists associated with each track.\n",
        "   - For example: `{\"TrackName1\": [\"Artist1\", \"Artist2\"], \"TrackName2\": [\"Artist3\"]}`\n",
        "   "
      ]
    },
    {
      "cell_type": "code",
      "source": [
        "import spotipy\n",
        "import requests\n",
        "import pandas as pd\n",
        "from spotipy.oauth2 import SpotifyClientCredentials\n",
        "\n",
        "CLIENT_ID = \"7afd87528b6044fbba3fb18fb30820d9\"\n",
        "CLIENT_SECRET = \"38c6aca37b27440a98361a123a1eec7f\""
      ],
      "metadata": {
        "id": "xmhoHN3_ZuCH"
      },
      "id": "xmhoHN3_ZuCH",
      "execution_count": null,
      "outputs": []
    },
    {
      "cell_type": "code",
      "source": [],
      "metadata": {
        "id": "b-UmhQPLZ07_"
      },
      "id": "b-UmhQPLZ07_",
      "execution_count": null,
      "outputs": []
    },
    {
      "cell_type": "code",
      "source": [],
      "metadata": {
        "id": "NiNC8jst4H1j"
      },
      "id": "NiNC8jst4H1j",
      "execution_count": null,
      "outputs": []
    },
    {
      "cell_type": "code",
      "source": [],
      "metadata": {
        "id": "DRkXYKev4Hs8"
      },
      "id": "DRkXYKev4Hs8",
      "execution_count": null,
      "outputs": []
    },
    {
      "cell_type": "code",
      "execution_count": null,
      "id": "ed92d961-9646-4375-a386-ccc320a958f5",
      "metadata": {
        "id": "ed92d961-9646-4375-a386-ccc320a958f5"
      },
      "outputs": [],
      "source": [
        "# Your answer here"
      ]
    }
  ],
  "metadata": {
    "kernelspec": {
      "display_name": "Python 3 (ipykernel)",
      "language": "python",
      "name": "python3"
    },
    "language_info": {
      "codemirror_mode": {
        "name": "ipython",
        "version": 3
      },
      "file_extension": ".py",
      "mimetype": "text/x-python",
      "name": "python",
      "nbconvert_exporter": "python",
      "pygments_lexer": "ipython3",
      "version": "3.9.13"
    },
    "colab": {
      "provenance": []
    }
  },
  "nbformat": 4,
  "nbformat_minor": 5
}